{
 "metadata": {
  "language_info": {
   "codemirror_mode": {
    "name": "ipython",
    "version": 3
   },
   "file_extension": ".py",
   "mimetype": "text/x-python",
   "name": "python",
   "nbconvert_exporter": "python",
   "pygments_lexer": "ipython3",
   "version": "3.8.3-final"
  },
  "orig_nbformat": 2,
  "kernelspec": {
   "name": "python_defaultSpec_1607413139194",
   "display_name": "Python 3.8.3 64-bit ('base': conda)"
  }
 },
 "nbformat": 4,
 "nbformat_minor": 2,
 "cells": [
  {
   "cell_type": "code",
   "execution_count": 1,
   "metadata": {},
   "outputs": [],
   "source": [
    "import sqlite3 \n",
    "import pandas as pd "
   ]
  },
  {
   "cell_type": "code",
   "execution_count": 2,
   "metadata": {},
   "outputs": [],
   "source": [
    "con = sqlite3.connect(\"sqlite_db_pythonsqlite.db\")\n",
    "cur = con.cursor()"
   ]
  },
  {
   "cell_type": "code",
   "execution_count": 3,
   "metadata": {
    "tags": []
   },
   "outputs": [
    {
     "output_type": "stream",
     "name": "stdout",
     "text": "Facility   \t Total Rev \nTable Tennis \t 180.00\nSnooker Table \t 240.00\nPool Table \t 270.00\n"
    }
   ],
   "source": [
    "query_1 = '''\n",
    "select name, sum(rev) as total_revenue \n",
    "from (select f.name,  \n",
    "       CASE when b.memid != 0 then f.membercost*b.slots \n",
    "            else f.guestcost*b.slots end as rev\n",
    "from Facilities as f \n",
    "inner join Bookings as b\n",
    "on b.facid = f.facid) as sub\n",
    "group by sub.name\n",
    "having sum(rev) < 1000\n",
    "order by total_revenue;\n",
    "'''\n",
    "cur.execute(query_1)\n",
    "\n",
    "print(\"{0:10s} \\t {1:10s}\".format('Facility', 'Total Rev'))\n",
    "for res in cur.fetchall():\n",
    "    print(\"{0:10s} \\t {1:.2f}\".format(*res))"
   ]
  },
  {
   "cell_type": "code",
   "execution_count": 4,
   "metadata": {
    "tags": []
   },
   "outputs": [
    {
     "output_type": "stream",
     "name": "stdout",
     "text": "Firstname  \t Surname    \t Rec. fname \t Rec. surname\nFlorence   \t Bader      \t Ponder     \t Stibbons  \nAnne       \t Baker      \t Ponder     \t Stibbons  \nTimothy    \t Baker      \t Jemima     \t Farrell   \nTim        \t Boothe     \t Tim        \t Rownam    \nGerald     \t Butters    \t Darren     \t Smith     \nJoan       \t Coplin     \t Timothy    \t Baker     \nErica      \t Crumpet    \t Tracy      \t Smith     \nNancy      \t Dare       \t Janice     \t Joplette  \nDavid      \t Farrell   \nJemima     \t Farrell   \nMatthew    \t Genting    \t Gerald     \t Butters   \nJohn       \t Hunt       \t Millicent  \t Purview   \nDavid      \t Jones      \t Janice     \t Joplette  \nDouglas    \t Jones      \t David      \t Jones     \nJanice     \t Joplette   \t Darren     \t Smith     \nAnna       \t Mackenzie  \t Darren     \t Smith     \nCharles    \t Owen       \t Darren     \t Smith     \nDavid      \t Pinker     \t Jemima     \t Farrell   \nMillicent  \t Purview    \t Tracy      \t Smith     \nTim        \t Rownam    \nHenrietta  \t Rumney     \t Matthew    \t Genting   \nRamnaresh  \t Sarwin     \t Florence   \t Bader     \nDarren     \t Smith     \nDarren     \t Smith     \nJack       \t Smith      \t Darren     \t Smith     \nTracy      \t Smith     \nPonder     \t Stibbons   \t Burton     \t Tracy     \nBurton     \t Tracy     \nHyacinth   \t Tupperware\nHenry      \t Worthington-Smyth \t Tracy      \t Smith     \n"
    }
   ],
   "source": [
    "query_2 = '''\n",
    "SELECT firstname, surname, (SELECT firstname from Members as m2 where m2.memid = m1.recommendedby and m1.recommendedby != 0) as Reco_firstname, (SELECT surname from Members as m2 where m2.memid = m1.recommendedby and m1.recommendedby != 0) as Reco_surtname\n",
    "FROM Members as m1\n",
    "WHERE memid != 0\n",
    "ORDER BY surname, firstname;\n",
    "'''\n",
    "cur.execute(query_2)\n",
    "\n",
    "print(\"{0:10s} \\t {1:10s} \\t {2:10s} \\t {3:10s}\".format('Firstname', 'Surname', 'Rec. fname', 'Rec. surname'))\n",
    "for res in cur.fetchall():\n",
    "    try:\n",
    "        print(\"{0:10s} \\t {1:10s} \\t {2:10s} \\t {3:10s}\".format(*res))\n",
    "    except:\n",
    "        print(\"{0:10s} \\t {1:10s}\".format(*res))"
   ]
  },
  {
   "cell_type": "code",
   "execution_count": 5,
   "metadata": {
    "tags": []
   },
   "outputs": [
    {
     "output_type": "stream",
     "name": "stdout",
     "text": "Facility        \t Usage     \nBadminton Court \t 344.00\nMassage Room 1  \t 421.00\nMassage Room 2  \t 27.00\nPool Table      \t 783.00\nSnooker Table   \t 421.00\nSquash Court    \t 195.00\nTable Tennis    \t 385.00\nTennis Court 1  \t 308.00\nTennis Court 2  \t 276.00\n"
    }
   ],
   "source": [
    "query_3 = '''\n",
    "SELECT f.name, count(*)\n",
    "FROM Facilities as f\n",
    "INNER JOIN Bookings as b\n",
    "on b.facid = f.facid\n",
    "where b.memid != 0\n",
    "group by f.name;\n",
    "'''\n",
    "cur.execute(query_3)\n",
    "\n",
    "print(\"{0:15s} \\t {1:10s}\".format('Facility', 'Usage'))\n",
    "for res in cur.fetchall():\n",
    "    print(\"{0:15s} \\t {1:.2f}\".format(*res))\n"
   ]
  },
  {
   "cell_type": "code",
   "execution_count": 6,
   "metadata": {
    "tags": []
   },
   "outputs": [
    {
     "output_type": "stream",
     "name": "stdout",
     "text": "Facility        \t Month      \t Usage     \nBadminton Court \t 2012-07    \t 51.00\nBadminton Court \t 2012-08    \t 132.00\nBadminton Court \t 2012-09    \t 161.00\nMassage Room 1  \t 2012-07    \t 77.00\nMassage Room 1  \t 2012-08    \t 153.00\nMassage Room 1  \t 2012-09    \t 191.00\nMassage Room 2  \t 2012-07    \t 4.00\nMassage Room 2  \t 2012-08    \t 9.00\nMassage Room 2  \t 2012-09    \t 14.00\nPool Table      \t 2012-07    \t 103.00\nPool Table      \t 2012-08    \t 272.00\nPool Table      \t 2012-09    \t 408.00\nSnooker Table   \t 2012-07    \t 68.00\nSnooker Table   \t 2012-08    \t 154.00\nSnooker Table   \t 2012-09    \t 199.00\nSquash Court    \t 2012-07    \t 23.00\nSquash Court    \t 2012-08    \t 85.00\nSquash Court    \t 2012-09    \t 87.00\nTable Tennis    \t 2012-07    \t 48.00\nTable Tennis    \t 2012-08    \t 143.00\nTable Tennis    \t 2012-09    \t 194.00\nTennis Court 1  \t 2012-07    \t 65.00\nTennis Court 1  \t 2012-08    \t 111.00\nTennis Court 1  \t 2012-09    \t 132.00\nTennis Court 2  \t 2012-07    \t 41.00\nTennis Court 2  \t 2012-08    \t 109.00\nTennis Court 2  \t 2012-09    \t 126.00\n"
    }
   ],
   "source": [
    "#concat(year(starttime), \"-\", month(starttime))\n",
    "query_4 = '''\n",
    "SELECT f.name, (strftime('%Y-%m', starttime)) as month_count, count(*) as usage_count\n",
    "FROM Facilities as f\n",
    "INNER JOIN Bookings as b\n",
    "on b.facid = f.facid\n",
    "where b.memid != 0\n",
    "group by f.name, month_count;\n",
    "'''\n",
    "cur.execute(query_4)\n",
    "\n",
    "print(\"{0:15s} \\t {1:10s} \\t {2:10s}\".format('Facility', 'Month', 'Usage'))\n",
    "for res in cur.fetchall():\n",
    "    print(\"{0:15s} \\t {1:10s} \\t {2:.2f}\".format(*res))\n"
   ]
  },
  {
   "cell_type": "code",
   "execution_count": null,
   "metadata": {},
   "outputs": [],
   "source": []
  }
 ]
}